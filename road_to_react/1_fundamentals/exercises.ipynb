{
 "cells": [
  {
   "cell_type": "markdown",
   "metadata": {},
   "source": [
    "- Why is the Key attribute needed in React? - What problems can the Key attribute cause for dynamic lists?\n",
    "    - Keys should be defined clearly to avoid needlessly rerendering performance hits https://dev.to/jtonzing/the-significance-of-react-keys---a-visual-explanation--56l7"
   ]
  },
  {
   "cell_type": "code",
   "execution_count": null,
   "metadata": {
    "vscode": {
     "languageId": "javascriptreact"
    }
   },
   "outputs": [],
   "source": [
    "const stefans = [{ Name: \"Stefan\",}, { Name: \"Stefon\",}, { Name: \"notStefan\", }]"
   ]
  }
 ],
 "metadata": {
  "language_info": {
   "name": "python"
  },
  "orig_nbformat": 4
 },
 "nbformat": 4,
 "nbformat_minor": 2
}
